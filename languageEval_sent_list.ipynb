{
 "cells": [
  {
   "cell_type": "code",
   "execution_count": 4,
   "metadata": {
    "collapsed": false
   },
   "outputs": [],
   "source": [
    "# Create sample sentences\n",
    "prediction_file = 'data/predicted_sentences.txt'\n",
    "reference_file = 'data/references.txt'\n",
    "with open(prediction_file, 'w') as f:\n",
    "    f.write('The University of California San Diego was ranked the 17th best university in the world.\\nUp to four spots compared to last year.\\n') \n",
    "with open(reference_file, 'w') as f:\n",
    "    f.write('The University of California San Diego has been ranked the 17th best university in the world.\\nUp four spots compared to last year.\\n')"
   ]
  },
  {
   "cell_type": "code",
   "execution_count": 2,
   "metadata": {
    "collapsed": false
   },
   "outputs": [],
   "source": [
    "import matplotlib\n",
    "matplotlib.use('Agg')  # to solve the backend problem when there's no GUI\n",
    "import sys\n",
    "import argparse\n",
    "sys.path.append('./coco-caption/')\n",
    "from pycocotools.coco import COCO\n",
    "from pycocoevalcap.eval import COCOEvalCap\n",
    "from captionLoader import *  # loading sentences to coco-json"
   ]
  },
  {
   "cell_type": "code",
   "execution_count": 3,
   "metadata": {
    "collapsed": false
   },
   "outputs": [
    {
     "name": "stdout",
     "output_type": "stream",
     "text": [
      "loading annotations into memory...\n",
      "0:00:00.000644\n",
      "creating index...\n",
      "index created!\n",
      "Loading and preparing results...     \n",
      "DONE (t=0.00s)\n",
      "creating index...\n",
      "index created!\n",
      "tokenization...\n",
      "setting up scorers...\n",
      "computing Bleu score...\n",
      "{'reflen': 23, 'guess': [23, 21, 19, 17], 'testlen': 23, 'correct': [21, 17, 14, 11]}\n",
      "ratio: 0.999999999957\n",
      "Bleu_1: 0.913\n",
      "Bleu_2: 0.860\n",
      "Bleu_3: 0.817\n",
      "Bleu_4: 0.770\n",
      "computing METEOR score...\n",
      "METEOR: 0.618\n",
      "computing Rouge score...\n",
      "ROUGE_L: 0.921\n",
      "computing CIDEr score...\n",
      "CIDEr: 7.588\n",
      "CIDEr: 7.588\n",
      "Bleu_4: 0.770\n",
      "Bleu_3: 0.817\n",
      "Bleu_2: 0.860\n",
      "Bleu_1: 0.913\n",
      "ROUGE_L: 0.921\n",
      "METEOR: 0.618\n"
     ]
    }
   ],
   "source": [
    "# Assigning output json path\n",
    "reference_json = '{0}.json'.format(reference_file)\n",
    "prediction_json = '{0}.json'.format(prediction_file)\n",
    "\n",
    "# load reference and predicts \n",
    "ref = CocoAnnotations()\n",
    "ref.read_file(reference_file)\n",
    "ref.dump_json(reference_json)\n",
    "\n",
    "pred = CocoResFormat()\n",
    "pred.read_file(prediction_file)\n",
    "pred.dump_json(prediction_json)\n",
    "\n",
    "# create coco object and cocoRes object.\n",
    "coco = COCO(reference_json)\n",
    "cocoRes = coco.loadRes(prediction_json)\n",
    "\n",
    "# create cocoEval object.\n",
    "cocoEval = COCOEvalCap(coco, cocoRes)\n",
    "\n",
    "# evaluate results\n",
    "cocoEval.evaluate()\n",
    "\n",
    "# print output evaluation scores\n",
    "for metric, score in cocoEval.eval.items():\n",
    "    print '%s: %.3f'%(metric, score)"
   ]
  },
  {
   "cell_type": "code",
   "execution_count": null,
   "metadata": {
    "collapsed": true
   },
   "outputs": [],
   "source": []
  }
 ],
 "metadata": {
  "kernelspec": {
   "display_name": "Python 2",
   "language": "python",
   "name": "python2"
  },
  "language_info": {
   "codemirror_mode": {
    "name": "ipython",
    "version": 2
   },
   "file_extension": ".py",
   "mimetype": "text/x-python",
   "name": "python",
   "nbconvert_exporter": "python",
   "pygments_lexer": "ipython2",
   "version": "2.7.6"
  }
 },
 "nbformat": 4,
 "nbformat_minor": 0
}
